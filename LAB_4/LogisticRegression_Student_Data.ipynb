{
 "cells": [
  {
   "cell_type": "code",
   "execution_count": 1,
   "metadata": {},
   "outputs": [
    {
     "name": "stderr",
     "output_type": "stream",
     "text": [
      "/usr/local/lib/python3.5/dist-packages/sklearn/cross_validation.py:44: DeprecationWarning: This module was deprecated in version 0.18 in favor of the model_selection module into which all the refactored classes and functions are moved. Also note that the interface of the new CV iterators are different from that of this module. This module will be removed in 0.20.\n",
      "  \"This module will be removed in 0.20.\", DeprecationWarning)\n"
     ]
    }
   ],
   "source": [
    "#import numpy as np\n",
    "import pandas as pd\n",
    "from sklearn.cross_validation import train_test_split\n",
    "from sklearn.preprocessing import StandardScaler\n",
    "#from sklearn.tree import DecisionTreeClassifier\n",
    "from sklearn.linear_model import LogisticRegression\n",
    "from mlxtend.plotting import plot_decision_regions\n",
    "from sklearn.metrics import accuracy_score\n",
    "from sklearn import tree\n",
    "data = pd.read_csv(\"../DATA/student-por.csv\")\n",
    "\n",
    "data.loc[data[\"school\"]==\"GP\",\"school\"]=0\n",
    "data.loc[data[\"school\"]==\"MS\",\"school\"]=1\n",
    "data.loc[data[\"sex\"]==\"M\",\"sex\"]=1\n",
    "data.loc[data[\"sex\"]==\"F\",\"sex\"]=0\n",
    "data.loc[data[\"address\"]==\"U\",\"address\"]=1\n",
    "data.loc[data[\"address\"]==\"R\",\"address\"]=0\n",
    "data.loc[data[\"famsize\"]==\"GT3\",\"famsize\"]=1\n",
    "data.loc[data[\"famsize\"]==\"LE3\",\"famsize\"]=0\n",
    "data.loc[data[\"Pstatus\"]==\"A\",\"Pstatus\"]=0\n",
    "data.loc[data[\"Pstatus\"]==\"T\",\"Pstatus\"]=1\n",
    "data.loc[data[\"Mjob\"]==\"teacher\",\"Mjob\"]=0\n",
    "data.loc[data[\"Mjob\"]==\"health\",\"Mjob\"]=1\n",
    "data.loc[data[\"Mjob\"]==\"services\",\"Mjob\"]=2\n",
    "data.loc[data[\"Mjob\"]==\"at_home\",\"Mjob\"]=3\n",
    "data.loc[data[\"Mjob\"]==\"other\",\"Mjob\"]=4\n",
    "data.loc[data[\"Fjob\"]==\"teacher\",\"Fjob\"]=0\n",
    "data.loc[data[\"Fjob\"]==\"health\",\"Fjob\"]=1\n",
    "data.loc[data[\"Fjob\"]==\"services\",\"Fjob\"]=2\n",
    "data.loc[data[\"Fjob\"]==\"at_home\",\"Fjob\"]=3\n",
    "data.loc[data[\"Fjob\"]==\"other\",\"Fjob\"]=4\n",
    "data.loc[data[\"reason\"]==\"home\",\"reason\"]=0\n",
    "data.loc[data[\"reason\"]==\"reputation\",\"reason\"]=1\n",
    "data.loc[data[\"reason\"]==\"course\",\"reason\"]=2\n",
    "data.loc[data[\"reason\"]==\"other\",\"reason\"]=3\n",
    "data.loc[data[\"guardian\"]==\"mother\",\"guardian\"]=0\n",
    "data.loc[data[\"guardian\"]==\"father\",\"guardian\"]=1\n",
    "data.loc[data[\"guardian\"]==\"other\",\"guardian\"]=2\n",
    "data.loc[data[\"schoolsup\"]==\"yes\",\"schoolsup\"]=1\n",
    "data.loc[data[\"schoolsup\"]==\"no\",\"schoolsup\"]=0\n",
    "data.loc[data[\"famsup\"]==\"yes\",\"famsup\"]=1\n",
    "data.loc[data[\"famsup\"]==\"no\",\"famsup\"]=0\n",
    "data.loc[data[\"paid\"]==\"yes\",\"paid\"]=1\n",
    "data.loc[data[\"paid\"]==\"no\",\"paid\"]=0\n",
    "data.loc[data[\"activities\"]==\"yes\",\"activities\"]=1\n",
    "data.loc[data[\"activities\"]==\"no\",\"activities\"]=0\n",
    "data.loc[data[\"nursery\"]==\"yes\",\"nursery\"]=1\n",
    "data.loc[data[\"nursery\"]==\"no\",\"nursery\"]=0\n",
    "data.loc[data[\"higher\"]==\"yes\",\"higher\"]=1\n",
    "data.loc[data[\"higher\"]==\"no\",\"higher\"]=0\n",
    "data.loc[data[\"internet\"]==\"yes\",\"internet\"]=1\n",
    "data.loc[data[\"internet\"]==\"no\",\"internet\"]=0\n",
    "data.loc[data[\"romantic\"]==\"yes\",\"romantic\"]=1\n",
    "data.loc[data[\"romantic\"]==\"no\",\"romantic\"]=0\n",
    "\n",
    "\n",
    "if 'new' not in data:\n",
    "    data.insert(33,'new',0)\n",
    "\n",
    "for i in range(0,len(data)):\n",
    "    data.loc[data['G3'] <= 7, 'new'] = 0\n",
    "    data.loc[(data['G3']>7) & (data['G3']<=14) , 'new'] = 1\n",
    "    data.loc[data['G3'] >14, 'new'] = 2\n",
    "    "
   ]
  },
  {
   "cell_type": "code",
   "execution_count": 2,
   "metadata": {},
   "outputs": [
    {
     "data": {
      "image/png": "[encoded data removed]",
      "text/plain": [
       "<matplotlib.figure.Figure at 0x7fb98046bd68>"
      ]
     },
     "metadata": {},
     "output_type": "display_data"
    }
   ],
   "source": [
    "import matplotlib.pyplot as plt\n",
    "import numpy as np\n",
    "def sigmoid(z):\n",
    "    return 1.0/(1.0+np.exp(-z))\n",
    "z=np.arange(-7,7,0.1)\n",
    "phi_z=sigmoid(z)\n",
    "plt.plot(z,phi_z)\n",
    "plt.axvline(0.0,color='k')\n",
    "plt.axhspan(0.0,1.0,facecolor='1.0',alpha=1.0,ls='dotted')\n",
    "plt.axhline(y=0.5,ls='dotted',color='k')\n",
    "plt.yticks([0.0, 0.5, 1.0])\n",
    "plt.ylim(-0.1, 1.1)\n",
    "plt.xlabel('z')\n",
    "plt.ylabel('$\\phi (z)$')\n",
    "plt.show()"
   ]
  },
  {
   "cell_type": "code",
   "execution_count": 3,
   "metadata": {},
   "outputs": [
    {
     "name": "stdout",
     "output_type": "stream",
     "text": [
      "Accuracy on training set: 0.758\n",
      "Accuracy on test set: 0.738\n"
     ]
    }
   ],
   "source": [
    "X = data.values[:, 0:29]\n",
    "Y = data.values[:,33]\n",
    "\n",
    "X_train, X_test, y_train, y_test = train_test_split( X, Y, test_size = 0.3, random_state = 100)\n",
    "\n",
    "lr=LogisticRegression(C=0.001, random_state=10, tol=0.0001, max_iter=1000)\n",
    "lr.fit(X_train.astype(int), y_train.astype(int))\n",
    "\n",
    "#plot_decision_regions(X_train, y_test, clf=lr, res=0.02)\n",
    "#plt.xlabel('petal width [standardized]')\n",
    "#plt.ylabel('petal width [standardized]')\n",
    "#plt.legend(loc='upper left')\n",
    "#plt.show()\n",
    "print(\"Accuracy on training set: {:.3f}\".format(lr.score(X_train.astype(int),y_train.astype(int))))\n",
    "print(\"Accuracy on test set: {:.3f}\".format(lr.score(X_test.astype(int),y_test.astype(int))))"
   ]
  },
  {
   "cell_type": "code",
   "execution_count": 4,
   "metadata": {},
   "outputs": [
    {
     "name": "stdout",
     "output_type": "stream",
     "text": [
      "[[0 0 18 ..., 1 1 3]\n",
      " [0 0 17 ..., 1 1 3]\n",
      " [0 0 15 ..., 2 3 3]\n",
      " ..., \n",
      " [1 0 18 ..., 1 1 5]\n",
      " [1 1 17 ..., 3 4 2]\n",
      " [1 1 18 ..., 3 4 5]]\n"
     ]
    }
   ],
   "source": [
    "print(X)"
   ]
  },
  {
   "cell_type": "code",
   "execution_count": 5,
   "metadata": {},
   "outputs": [
    {
     "name": "stdout",
     "output_type": "stream",
     "text": [
      "[1 1 1 1 1 1 1 1 2 1 1 1 1 1 2 2 1 1 0 1 1 1 1 1 1 1 1 1 1 1 1 2 2 1 1 1 1\n",
      " 1 1 1 1 1 2 1 1 1 1 2 1 1 1 2 1 1 1 1 2 2 1 2 2 2 1 1 1 2 1 1 1 2 1 1 1 1\n",
      " 1 1 1 1 1 1 1 1 1 1 1 1 1 2 1 1 1 1 1 1 1 1 1 1 1 1 1 2 1 1 2 1 1 1 1 1 1\n",
      " 1 1 2 1 1 2 2 1 1 1 1 1 1 1 1 1 1 2 1 1 1 1 1 1 1 1 1 1 2 1 1 1 1 1 1 1 1\n",
      " 1 1 1 1 1 1 1 0 1 1 1 1 1 1 1 0 1 1 1 1 1 1 1 1 0 1 1 1 1 1 1 1 1 2 1 2 1\n",
      " 2 1 1 2 1 1 1 1 1 1 1 2 1 2 1 1 2 1 1 1 1 1 1 1 2 1 1 2 1 2 1 2 1 1 1 1 2\n",
      " 1 1 1 1 1 1 1 2 1 1 1 1 1 1 1 1 2 1 2 1 1 2 1 1 1 1 1 1 2 1 1 1 1 0 1 1 2\n",
      " 1 1 1 1 1 1 2 1 2 1 2 2 1 2 1 1 1 2 1 1 0 1 1 0 1 0 1 1 1 1 2 1 1 1 1 1 1\n",
      " 2 1 1 1 2 1 1 1 1 1 2 1 1 1 1 1 2 1 2 2 2 1 1 1 1 2 1 1 1 1 1 2 1 1 1 1 2\n",
      " 1 2 2 2 2 2 2 2 1 1 2 2 2 1 1 2 2 1 2 1 1 2 1 2 2 2 2 1 1 1 1 2 2 1 1 1 1\n",
      " 1 1 1 1 2 2 1 1 2 1 1 2 1 1 1 1 2 2 1 1 1 1 2 2 2 1 2 1 1 2 2 1 1 2 2 1 1\n",
      " 1 1 2 2 2 2 1 2 1 2 2 1 1 2 1 1 1 1 1 1 2 1 1 1 1 0 1 1 1 1 1 1 2 0 1 1 1\n",
      " 1 1 1 1 2 1 2 1 1 1 1 1 2 1 1 1 1 1 1 1 1 1 1 1 1 1 1 1 2 1 1 1 1 1 1 1 1\n",
      " 1 1 1 1 1 1 1 1 1 1 1 1 1 1 1 1 1 1 2 0 1 1 1 1 1 1 1 1 2 2 1 0 1 0 1 2 2\n",
      " 1 0 1 1 1 0 1 2 1 1 1 1 1 1 1 2 1 1 1 1 1 1 1 1 1 1 1 1 2 1 1 2 1 1 1 1 1\n",
      " 1 1 1 1 1 1 1 1 0 1 1 1 0 1 1 1 1 0 1 1 1 1 1 1 1 1 1 0 0 1 1 0 1 1 1 0 1\n",
      " 1 1 2 2 2 0 1 1 1 1 1 0 1 0 2 1 1 1 0 2 1 1 1 2 1 2 2 1 2 1 1 2 1 1 0 1 1\n",
      " 1 2 1 1 1 2 1 2 0 2 0 0 2 1 1 1 2 1 1 1]\n"
     ]
    }
   ],
   "source": [
    "print(Y)"
   ]
  },
  {
   "cell_type": "code",
   "execution_count": 6,
   "metadata": {},
   "outputs": [],
   "source": [
    "from sklearn.linear_model import LogisticRegression\n",
    "X = data.values[:, [29,32]]\n",
    "y = data.values[:,33]"
   ]
  },
  {
   "cell_type": "code",
   "execution_count": 7,
   "metadata": {},
   "outputs": [],
   "source": [
    "from sklearn.cross_validation import train_test_split\n",
    "\n",
    "X_train, X_test, y_train, y_test = train_test_split(X, y, test_size=0.3, random_state=0)"
   ]
  },
  {
   "cell_type": "code",
   "execution_count": 8,
   "metadata": {},
   "outputs": [
    {
     "name": "stderr",
     "output_type": "stream",
     "text": [
      "/usr/local/lib/python3.5/dist-packages/sklearn/utils/validation.py:429: DataConversionWarning: Data with input dtype object was converted to float64 by StandardScaler.\n",
      "  warnings.warn(msg, _DataConversionWarning)\n"
     ]
    }
   ],
   "source": [
    "from sklearn.preprocessing import StandardScaler\n",
    "sc = StandardScaler()\n",
    "lr=LogisticRegression(C=0.001, random_state=10, tol=0.0001, max_iter=10)\n",
    "sc.fit(X_train)\n",
    "X_train_std = sc.transform(X_train)\n",
    "X_test_std = sc.transform(X_test)"
   ]
  },
  {
   "cell_type": "code",
   "execution_count": 9,
   "metadata": {
    "collapsed": true
   },
   "outputs": [],
   "source": [
    "from matplotlib.colors import ListedColormap\n",
    "import matplotlib.pyplot as plt\n",
    "def plot_decision_regions(X, y, classifier,test_idx=None, resolution=0.02):\n",
    "# setup marker generator and color map\n",
    "    markers = ('s', 'x', 'o', '^', 'v')\n",
    "    colors = ('red', 'blue', 'lightgreen', 'gray', 'cyan')\n",
    "    cmap = ListedColormap(colors[:len(np.unique(y))])\n",
    "    # plot the decision surface\n",
    "    x1_min, x1_max = X[:, 0].min() - 1, X[:, 0].max() + 1\n",
    "    x2_min, x2_max = X[:, 1].min() - 1, X[:, 1].max() + 1\n",
    "    xx1, xx2 = np.meshgrid(np.arange(x1_min, x1_max, resolution),\n",
    "    np.arange(x2_min, x2_max, resolution))\n",
    "    Z = classifier.predict(np.array([xx1.ravel(), xx2.ravel()]).T)\n",
    "    Z = Z.reshape(xx1.shape)\n",
    "    plt.contourf(xx1, xx2, Z, alpha=0.4, cmap=cmap)\n",
    "    plt.xlim(xx1.min(), xx1.max())\n",
    "    plt.ylim(xx2.min(), xx2.max())\n",
    "    # plot all samples\n",
    "    X_test, y_test = X[test_idx, :], y[test_idx]\n",
    "    for idx, cl in enumerate(np.unique(y)):\n",
    "        plt.scatter(x=X[y == cl, 0], y=X[y == cl, 1],\n",
    "        alpha=0.8, c=cmap(idx),\n",
    "        marker=markers[idx], label=cl)\n",
    "    # highlight test samples\n",
    "    if test_idx:\n",
    "        X_test, y_test = X[test_idx, :], y[test_idx]\n",
    "        plt.scatter(X_test[:, 0], X_test[:, 1], c='',\n",
    "        alpha=1.0, linewidth=1, marker='o',\n",
    "        s=5500, label='test set')"
   ]
  },
  {
   "cell_type": "code",
   "execution_count": 10,
   "metadata": {
    "scrolled": true
   },
   "outputs": [
    {
     "data": {
      "image/png": "[encoded data removed]",
      "text/plain": [
       "<matplotlib.figure.Figure at 0x7fb946483c50>"
      ]
     },
     "metadata": {},
     "output_type": "display_data"
    }
   ],
   "source": [
    "X_combined_std = np.vstack((X_train_std, X_test_std))\n",
    "y_combined = np.hstack((y_train, y_test))\n",
    "lr.fit(X_train.astype(int), y_train.astype(int))\n",
    "plot_decision_regions(X_combined_std,y_combined, classifier=lr,test_idx=range(100,210))\n",
    "plt.xlabel('Absences')\n",
    "plt.ylabel('Average marks')\n",
    "plt.legend(loc='upper left')\n",
    "plt.show()"
   ]
  },
  {
   "cell_type": "code",
   "execution_count": 11,
   "metadata": {},
   "outputs": [
    {
     "data": {
      "text/plain": [
       "1298"
      ]
     },
     "execution_count": 11,
     "metadata": {},
     "output_type": "execute_result"
    }
   ],
   "source": [
    "(X_combined_std).size"
   ]
  },
  {
   "cell_type": "code",
   "execution_count": 12,
   "metadata": {},
   "outputs": [
    {
     "data": {
      "text/plain": [
       "649"
      ]
     },
     "execution_count": 12,
     "metadata": {},
     "output_type": "execute_result"
    }
   ],
   "source": [
    "(y_combined).size"
   ]
  },
  {
   "cell_type": "code",
   "execution_count": 13,
   "metadata": {},
   "outputs": [
    {
     "data": {
      "text/plain": [
       "array([[ 0.36272212,  0.30973374,  0.32754414],\n",
       "       [ 0.31227899,  0.34400048,  0.34372053],\n",
       "       [ 0.29823779,  0.37281345,  0.32894877],\n",
       "       [ 0.35035227,  0.31411701,  0.33553072],\n",
       "       [ 0.35035227,  0.31411701,  0.33553072],\n",
       "       [ 0.33203401,  0.33974475,  0.32822124],\n",
       "       [ 0.32616534,  0.33876197,  0.3350727 ],\n",
       "       [ 0.29399467,  0.36437117,  0.34163416],\n",
       "       [ 0.33563672,  0.32566471,  0.33869857],\n",
       "       [ 0.33203401,  0.33974475,  0.32822124],\n",
       "       [ 0.33331532,  0.3584847 ,  0.30819999],\n",
       "       [ 0.35035227,  0.31411701,  0.33553072],\n",
       "       [ 0.32616534,  0.33876197,  0.3350727 ],\n",
       "       [ 0.36114123,  0.31638568,  0.32247309],\n",
       "       [ 0.28770714,  0.36342286,  0.34887   ],\n",
       "       [ 0.33563672,  0.32566471,  0.33869857],\n",
       "       [ 0.32616534,  0.33876197,  0.3350727 ],\n",
       "       [ 0.32801   ,  0.33164583,  0.34034418],\n",
       "       [ 0.35035227,  0.31411701,  0.33553072],\n",
       "       [ 0.35035227,  0.31411701,  0.33553072],\n",
       "       [ 0.33563672,  0.32566471,  0.33869857],\n",
       "       [ 0.34696946,  0.32777645,  0.32525409],\n",
       "       [ 0.29600648,  0.35683937,  0.34715415],\n",
       "       [ 0.31227899,  0.34400048,  0.34372053],\n",
       "       [ 0.31832733,  0.34498091,  0.33669175],\n",
       "       [ 0.41134897,  0.26506433,  0.3235867 ],\n",
       "       [ 0.33563672,  0.32566471,  0.33869857],\n",
       "       [ 0.32021963,  0.3377595 ,  0.34202087],\n",
       "       [ 0.33384303,  0.33267526,  0.33348171],\n",
       "       [ 0.35249682,  0.3288198 ,  0.31868337],\n",
       "       [ 0.32801   ,  0.33164583,  0.34034418],\n",
       "       [ 0.30420269,  0.35036272,  0.34543459],\n",
       "       [ 0.32523754,  0.34234211,  0.33242035],\n",
       "       [ 0.30420269,  0.35036272,  0.34543459],\n",
       "       [ 0.32463583,  0.36854144,  0.30682273],\n",
       "       [ 0.34696946,  0.32777645,  0.32525409],\n",
       "       [ 0.34351905,  0.34166224,  0.31481872],\n",
       "       [ 0.34308772,  0.31982057,  0.33709171],\n",
       "       [ 0.32243165,  0.3531655 ,  0.32440285],\n",
       "       [ 0.34696946,  0.32777645,  0.32525409],\n",
       "       [ 0.31227899,  0.34400048,  0.34372053],\n",
       "       [ 0.28770714,  0.36342286,  0.34887   ],\n",
       "       [ 0.34308772,  0.31982057,  0.33709171],\n",
       "       [ 0.32801   ,  0.33164583,  0.34034418],\n",
       "       [ 0.32801   ,  0.33164583,  0.34034418],\n",
       "       [ 0.34866905,  0.32091681,  0.33041413],\n",
       "       [ 0.32021963,  0.3377595 ,  0.34202087],\n",
       "       [ 0.35332828,  0.32540672,  0.32126501],\n",
       "       [ 0.34134797,  0.32672556,  0.33192647],\n",
       "       [ 0.34696946,  0.32777645,  0.32525409],\n",
       "       [ 0.36114123,  0.31638568,  0.32247309],\n",
       "       [ 0.29197191,  0.37195691,  0.33607118],\n",
       "       [ 0.35415534,  0.32200747,  0.32383719],\n",
       "       [ 0.32430603,  0.34593638,  0.32975759],\n",
       "       [ 0.36114123,  0.31638568,  0.32247309],\n",
       "       [ 0.32869814,  0.37653077,  0.29477109],\n",
       "       [ 0.33563672,  0.32566471,  0.33869857],\n",
       "       [ 0.32083391,  0.38319839,  0.2959677 ],\n",
       "       [ 0.31034274,  0.3513265 ,  0.33833075],\n",
       "       [ 0.31227899,  0.34400048,  0.34372053],\n",
       "       [ 0.32430603,  0.34593638,  0.32975759],\n",
       "       [ 0.36943879,  0.30436323,  0.32619798],\n",
       "       [ 0.32836818,  0.35404666,  0.31758516],\n",
       "       [ 0.34696946,  0.32777645,  0.32525409],\n",
       "       [ 0.33384303,  0.33267526,  0.33348171],\n",
       "       [ 0.33384303,  0.33267526,  0.33348171],\n",
       "       [ 0.34308772,  0.31982057,  0.33709171],\n",
       "       [ 0.32801   ,  0.33164583,  0.34034418],\n",
       "       [ 0.32021963,  0.3377595 ,  0.34202087],\n",
       "       [ 0.36428602,  0.30314201,  0.33257197],\n",
       "       [ 0.35742103,  0.30855683,  0.33402215],\n",
       "       [ 0.3422198 ,  0.32326543,  0.33451477],\n",
       "       [ 0.32616534,  0.33876197,  0.3350727 ],\n",
       "       [ 0.34134797,  0.32672556,  0.33192647],\n",
       "       [ 0.31832733,  0.34498091,  0.33669175],\n",
       "       [ 0.32801   ,  0.33164583,  0.34034418],\n",
       "       [ 0.31450076,  0.35959238,  0.32590685],\n",
       "       [ 0.32801   ,  0.33164583,  0.34034418],\n",
       "       [ 0.32801   ,  0.33164583,  0.34034418],\n",
       "       [ 0.32616534,  0.33876197,  0.3350727 ],\n",
       "       [ 0.31832733,  0.34498091,  0.33669175],\n",
       "       [ 0.34308772,  0.31982057,  0.33709171],\n",
       "       [ 0.34866905,  0.32091681,  0.33041413],\n",
       "       [ 0.32021963,  0.3377595 ,  0.34202087],\n",
       "       [ 0.29600648,  0.35683937,  0.34715415],\n",
       "       [ 0.32430603,  0.34593638,  0.32975759],\n",
       "       [ 0.33639968,  0.3700024 ,  0.29359793],\n",
       "       [ 0.33384303,  0.33267526,  0.33348171],\n",
       "       [ 0.32801   ,  0.33164583,  0.34034418],\n",
       "       [ 0.35035227,  0.31411701,  0.33553072],\n",
       "       [ 0.33384303,  0.33267526,  0.33348171],\n",
       "       [ 0.30420269,  0.35036272,  0.34543459],\n",
       "       [ 0.29600648,  0.35683937,  0.34715415],\n",
       "       [ 0.34308772,  0.31982057,  0.33709171],\n",
       "       [ 0.36050281,  0.36583135,  0.27366584],\n",
       "       [ 0.34308772,  0.31982057,  0.33709171],\n",
       "       [ 0.3106158 ,  0.37440352,  0.31498068],\n",
       "       [ 0.34134797,  0.32672556,  0.33192647],\n",
       "       [ 0.32430603,  0.34593638,  0.32975759],\n",
       "       [ 0.30346142,  0.3773868 ,  0.31915178],\n",
       "       [ 0.31832733,  0.34498091,  0.33669175],\n",
       "       [ 0.34264541,  0.3451659 ,  0.31218869],\n",
       "       [ 0.35792608,  0.32985799,  0.31221593],\n",
       "       [ 0.33959231,  0.33369002,  0.32671767],\n",
       "       [ 0.35035227,  0.31411701,  0.33553072],\n",
       "       [ 0.32557533,  0.36490131,  0.30952336],\n",
       "       [ 0.29600648,  0.35683937,  0.34715415],\n",
       "       [ 0.33959231,  0.33369002,  0.32671767],\n",
       "       [ 0.35742103,  0.30855683,  0.33402215],\n",
       "       [ 0.31034274,  0.3513265 ,  0.33833075],\n",
       "       [ 0.33563672,  0.32566471,  0.33869857],\n",
       "       [ 0.32708947,  0.33519639,  0.33771413],\n",
       "       [ 0.32021963,  0.3377595 ,  0.34202087],\n",
       "       [ 0.31256575,  0.36697494,  0.32045931],\n",
       "       [ 0.33384303,  0.33267526,  0.33348171],\n",
       "       [ 0.33782026,  0.34071061,  0.32146914],\n",
       "       [ 0.31227899,  0.34400048,  0.34372053],\n",
       "       [ 0.30420269,  0.35036272,  0.34543459],\n",
       "       [ 0.34866905,  0.32091681,  0.33041413],\n",
       "       [ 0.32083391,  0.38319839,  0.2959677 ],\n",
       "       [ 0.36034422,  0.31973329,  0.31992249],\n",
       "       [ 0.34308772,  0.31982057,  0.33709171],\n",
       "       [ 0.34308772,  0.31982057,  0.33709171],\n",
       "       [ 0.33422508,  0.35490624,  0.31086868],\n",
       "       [ 0.32021963,  0.3377595 ,  0.34202087],\n",
       "       [ 0.30246459,  0.38115635,  0.31637906],\n",
       "       [ 0.31642117,  0.35225977,  0.33131906],\n",
       "       [ 0.31227899,  0.34400048,  0.34372053],\n",
       "       [ 0.35035227,  0.31411701,  0.33553072],\n",
       "       [ 0.34134797,  0.32672556,  0.33192647],\n",
       "       [ 0.33203401,  0.33974475,  0.32822124],\n",
       "       [ 0.37094065,  0.29787381,  0.33118554],\n",
       "       [ 0.29197191,  0.37195691,  0.33607118],\n",
       "       [ 0.32801   ,  0.33164583,  0.34034418],\n",
       "       [ 0.33474176,  0.32916241,  0.33609583],\n",
       "       [ 0.34696946,  0.32777645,  0.32525409],\n",
       "       [ 0.41134897,  0.26506433,  0.3235867 ],\n",
       "       [ 0.41134897,  0.26506433,  0.3235867 ],\n",
       "       [ 0.33563672,  0.32566471,  0.33869857],\n",
       "       [ 0.33603133,  0.34778387,  0.3161848 ],\n",
       "       [ 0.31034274,  0.3513265 ,  0.33833075],\n",
       "       [ 0.34696946,  0.32777645,  0.32525409],\n",
       "       [ 0.35035227,  0.31411701,  0.33553072],\n",
       "       [ 0.33563672,  0.32566471,  0.33869857],\n",
       "       [ 0.3002383 ,  0.36527721,  0.33448449],\n",
       "       [ 0.33563672,  0.32566471,  0.33869857],\n",
       "       [ 0.36165985,  0.33765342,  0.30068673],\n",
       "       [ 0.30266071,  0.40449605,  0.29284324],\n",
       "       [ 0.29298467,  0.36815755,  0.33885778],\n",
       "       [ 0.32616534,  0.33876197,  0.3350727 ],\n",
       "       [ 0.28993793,  0.37959253,  0.33046954],\n",
       "       [ 0.32801   ,  0.33164583,  0.34034418],\n",
       "       [ 0.32801   ,  0.33164583,  0.34034418],\n",
       "       [ 0.3422198 ,  0.32326543,  0.33451477],\n",
       "       [ 0.33563672,  0.32566471,  0.33869857],\n",
       "       [ 0.31642117,  0.35225977,  0.33131906],\n",
       "       [ 0.30420269,  0.35036272,  0.34543459],\n",
       "       [ 0.34308772,  0.31982057,  0.33709171],\n",
       "       [ 0.35742103,  0.30855683,  0.33402215],\n",
       "       [ 0.28770714,  0.36342286,  0.34887   ],\n",
       "       [ 0.3106158 ,  0.37440352,  0.31498068],\n",
       "       [ 0.29823779,  0.37281345,  0.32894877],\n",
       "       [ 0.34134797,  0.32672556,  0.33192647],\n",
       "       [ 0.33563672,  0.32566471,  0.33869857],\n",
       "       [ 0.32430603,  0.34593638,  0.32975759],\n",
       "       [ 0.33055888,  0.36928351,  0.30015761],\n",
       "       [ 0.34264541,  0.3451659 ,  0.31218869],\n",
       "       [ 0.36193384,  0.31305237,  0.32501379],\n",
       "       [ 0.35742103,  0.30855683,  0.33402215],\n",
       "       [ 0.33959231,  0.33369002,  0.32671767],\n",
       "       [ 0.35415534,  0.32200747,  0.32383719],\n",
       "       [ 0.31227899,  0.34400048,  0.34372053],\n",
       "       [ 0.31227899,  0.34400048,  0.34372053],\n",
       "       [ 0.2941987 ,  0.38802357,  0.31777773],\n",
       "       [ 0.28168516,  0.41054824,  0.3077666 ],\n",
       "       [ 0.37507898,  0.32635822,  0.2985628 ],\n",
       "       [ 0.33384303,  0.33267526,  0.33348171],\n",
       "       [ 0.3002383 ,  0.36527721,  0.33448449],\n",
       "       [ 0.36272212,  0.30973374,  0.32754414],\n",
       "       [ 0.35579655,  0.31525211,  0.32895134],\n",
       "       [ 0.31642117,  0.35225977,  0.33131906],\n",
       "       [ 0.29399467,  0.36437117,  0.34163416],\n",
       "       [ 0.33603133,  0.34778387,  0.3161848 ],\n",
       "       [ 0.35035227,  0.31411701,  0.33553072],\n",
       "       [ 0.36428602,  0.30314201,  0.33257197],\n",
       "       [ 0.34308772,  0.31982057,  0.33709171],\n",
       "       [ 0.33563672,  0.32566471,  0.33869857],\n",
       "       [ 0.40624505,  0.2693268 ,  0.32442815],\n",
       "       [ 0.33563672,  0.32566471,  0.33869857],\n",
       "       [ 0.34525296,  0.33469271,  0.32005433],\n",
       "       [ 0.36428602,  0.30314201,  0.33257197],\n",
       "       [ 0.27517569,  0.38561679,  0.33920752],\n",
       "       [ 0.35415534,  0.32200747,  0.32383719],\n",
       "       [ 0.33782026,  0.34071061,  0.32146914],\n",
       "       [ 0.34308772,  0.31982057,  0.33709171]])"
      ]
     },
     "execution_count": 13,
     "metadata": {},
     "output_type": "execute_result"
    }
   ],
   "source": [
    "lr.predict_proba(X_test_std[:,:])"
   ]
  },
  {
   "cell_type": "code",
   "execution_count": null,
   "metadata": {
    "collapsed": true
   },
   "outputs": [],
   "source": []
  }
 ],
 "metadata": {
  "kernelspec": {
   "display_name": "Python 3",
   "language": "python",
   "name": "python3"
  },
  "language_info": {
   "codemirror_mode": {
    "name": "ipython",
    "version": 3
   },
   "file_extension": ".py",
   "mimetype": "text/x-python",
   "name": "python",
   "nbconvert_exporter": "python",
   "pygments_lexer": "ipython3",
   "version": "3.5.2"
  }
 },
 "nbformat": 4,
 "nbformat_minor": 2
}
